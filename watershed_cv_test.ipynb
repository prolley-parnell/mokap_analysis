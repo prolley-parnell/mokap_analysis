{
 "cells": [
  {
   "metadata": {
    "ExecuteTime": {
     "end_time": "2024-10-03T08:24:55.571891Z",
     "start_time": "2024-10-03T08:24:55.140913Z"
    }
   },
   "cell_type": "code",
   "source": [
    "import os\n",
    "import numpy as np\n",
    "import cv2 as cv\n",
    "from matplotlib import pyplot as plt"
   ],
   "id": "5b24454753f50bda",
   "outputs": [],
   "execution_count": 1
  },
  {
   "metadata": {
    "ExecuteTime": {
     "end_time": "2024-10-03T08:24:56.385631Z",
     "start_time": "2024-10-03T08:24:56.382914Z"
    }
   },
   "cell_type": "code",
   "source": "video_folder = \"/home/persie/Videos/mokap/\"",
   "id": "ebc3eb7563a16a29",
   "outputs": [],
   "execution_count": 2
  },
  {
   "metadata": {
    "ExecuteTime": {
     "end_time": "2024-10-03T08:24:57.723173Z",
     "start_time": "2024-10-03T08:24:57.719428Z"
    }
   },
   "cell_type": "code",
   "source": [
    "session_id = os.listdir(video_folder)\n",
    "video_file = []\n",
    "for folder in session_id:\n",
    "    files = os.listdir(os.path.join(video_folder, folder))\n",
    "    for file in files:\n",
    "        video_file.append(os.path.join(video_folder, folder, file))\n",
    "    \n",
    "#session_number\n"
   ],
   "id": "dfc9ded36325fe07",
   "outputs": [],
   "execution_count": 3
  },
  {
   "metadata": {
    "ExecuteTime": {
     "end_time": "2024-10-03T08:24:59.568052Z",
     "start_time": "2024-10-03T08:24:59.551275Z"
    }
   },
   "cell_type": "code",
   "source": "cap = cv.VideoCapture(video_file[33])",
   "id": "51c14bbc8831289b",
   "outputs": [],
   "execution_count": 4
  },
  {
   "metadata": {},
   "cell_type": "code",
   "source": [
    "myFrameNumber = 1000\n",
    "# get total number of frames\n",
    "totalFrames = cap.get(cv.CAP_PROP_FRAME_COUNT)\n",
    "\n",
    "# check for valid frame number\n",
    "if myFrameNumber >= 0 & myFrameNumber <= totalFrames:\n",
    "    # set frame position\n",
    "    cap.set(cv.CAP_PROP_POS_FRAMES,myFrameNumber)\n",
    "\n",
    "while True:\n",
    "    ret, frame = cap.read()\n",
    "    cv.imshow(\"Video\", frame)\n",
    "    if cv.waitKey(20) & 0xFF == ord('q'):\n",
    "        break\n",
    "\n",
    "cv.destroyAllWindows()"
   ],
   "id": "e6d4527616963423",
   "outputs": [],
   "execution_count": null
  },
  {
   "metadata": {},
   "cell_type": "markdown",
   "source": [
    "## Find frame for background subtraction ##\n",
    "### Find Confident Background ###"
   ],
   "id": "9c33a2a65991a033"
  },
  {
   "metadata": {},
   "cell_type": "code",
   "source": [
    "# get total number of frames\n",
    "total_frames = int(cap.get(cv.CAP_PROP_FRAME_COUNT))\n",
    "sample_rate = 100\n",
    "success, frame = cap.retrieve() # get the next frame\n",
    "if success:\n",
    "    frame_array = cv.cvtColor(frame, cv.COLOR_BGR2GRAY)\n",
    "fno = 0\n",
    "print(success)\n",
    "while success:\n",
    "    if fno % sample_rate == 0:\n",
    "        success, frame = cap.retrieve()\n",
    "        gray = cv.cvtColor(frame, cv.COLOR_BGR2GRAY)\n",
    "        frame_array = np.dstack((frame_array,gray))\n",
    "\n",
    "    # read next frame\n",
    "    success = cap.grab()\n",
    "    fno += 1\n",
    "\n",
    "    "
   ],
   "id": "da93b67998528af4",
   "outputs": [],
   "execution_count": null
  },
  {
   "metadata": {},
   "cell_type": "code",
   "source": [
    "print(total_frames)\n",
    "for f in range(0, frame_array.shape[2], 1):\n",
    "    cv.imshow(\"image\", frame_array[:,:,f])\n",
    "    cv.waitKey(300)\n",
    "    if cv.waitKey(20) & 0xFF == ord('q'):\n",
    "        break\n",
    "cv.destroyAllWindows()"
   ],
   "id": "62dd0245c452ac7",
   "outputs": [],
   "execution_count": null
  },
  {
   "metadata": {},
   "cell_type": "code",
   "source": "",
   "id": "b6c5a776d551e2e5",
   "outputs": [],
   "execution_count": null
  },
  {
   "metadata": {},
   "cell_type": "markdown",
   "source": "### Find Confident Foreground ###",
   "id": "3404c4902f66d0c0"
  },
  {
   "metadata": {},
   "cell_type": "code",
   "source": [
    "gray = cv.cvtColor(frame, cv.COLOR_BGR2GRAY)\n",
    "ret, thresh = cv.threshold(gray,0,255,cv.THRESH_BINARY_INV+cv.THRESH_OTSU)\n",
    "#ret, thresh = cv.threshold(gray,130,255,cv.THRESH_BINARY_INV)\n",
    "#thresh = cv.adaptiveThreshold(gray,255,cv.ADAPTIVE_THRESH_GAUSSIAN_C, cv.THRESH_BINARY,11,2)"
   ],
   "id": "151d0e614f94738b",
   "outputs": [],
   "execution_count": null
  },
  {
   "metadata": {},
   "cell_type": "code",
   "source": [
    "# noise removal\n",
    "kernel = np.ones((3,3),np.uint8)\n",
    "opening = cv.morphologyEx(thresh,cv.MORPH_OPEN,kernel, iterations = 2)\n",
    "\n",
    "# sure background area\n",
    "#sure_bg = cv.dilate(opening,kernel,iterations=3)\n",
    "sure_fg = 255 - cv.morphologyEx(opening,cv.MORPH_CLOSE,np.ones((6,6),np.uint8), iterations = 2)\n",
    " \n",
    "# Finding sure foreground area\n",
    "dist_transform = cv.distanceTransform(opening,cv.DIST_L2,3)\n",
    "ret, sure_bg = cv.threshold(dist_transform,0.8*dist_transform.max(),255,0)\n",
    " \n",
    "# Finding unknown region\n",
    "sure_bg = np.uint8(255-sure_bg)\n",
    "unknown = cv.subtract(sure_bg,sure_fg)"
   ],
   "id": "6479802b18e4aea8",
   "outputs": [],
   "execution_count": null
  },
  {
   "metadata": {},
   "cell_type": "code",
   "source": [
    "# Marker labelling\n",
    "ret, markers = cv.connectedComponents(sure_fg)\n",
    " \n",
    "# Add one to all labels so that sure background is not 0, but 1\n",
    "markers = markers+1\n",
    " \n",
    "# Now, mark the region of unknown with zero\n",
    "markers[unknown==255] = 0"
   ],
   "id": "fa208fe8457263f8",
   "outputs": [],
   "execution_count": null
  },
  {
   "metadata": {},
   "cell_type": "code",
   "source": [
    "markers = cv.watershed(frame,markers)\n",
    "frame[markers == -1] = [255,0,0]"
   ],
   "id": "96e44b4e8bbcf0b2",
   "outputs": [],
   "execution_count": null
  },
  {
   "metadata": {},
   "cell_type": "code",
   "source": [
    "out_frame = thresh\n",
    "\n",
    "while True:\n",
    "    #ret, out_frame = cap.read()\n",
    "    cv.imshow(\"Original\", frame)\n",
    "    cv.imshow(\"Fg\", sure_fg)\n",
    "    cv.imshow(\"bg\", sure_bg)\n",
    "    cv.imshow(\"unknown\", unknown)\n",
    "\n",
    "    if cv.waitKey(20) & 0xFF == ord('q'):\n",
    "        break\n",
    "        \n",
    "cv.destroyAllWindows()"
   ],
   "id": "f80986bf6e8f1d21",
   "outputs": [],
   "execution_count": null
  }
 ],
 "metadata": {
  "kernelspec": {
   "display_name": "Python 3",
   "language": "python",
   "name": "python3"
  },
  "language_info": {
   "codemirror_mode": {
    "name": "ipython",
    "version": 2
   },
   "file_extension": ".py",
   "mimetype": "text/x-python",
   "name": "python",
   "nbconvert_exporter": "python",
   "pygments_lexer": "ipython2",
   "version": "2.7.6"
  }
 },
 "nbformat": 4,
 "nbformat_minor": 5
}
