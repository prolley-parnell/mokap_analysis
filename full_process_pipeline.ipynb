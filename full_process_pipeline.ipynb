{
 "cells": [
  {
   "cell_type": "code",
   "id": "initial_id",
   "metadata": {
    "collapsed": true,
    "ExecuteTime": {
     "end_time": "2024-10-22T16:12:54.493090Z",
     "start_time": "2024-10-22T16:12:54.484266Z"
    }
   },
   "source": [
    "import cv2\n",
    "import numpy as np\n",
    "import os\n",
    "\n",
    "# Open all the video folders to find the paths\n",
    "video_folder = \"/home/persie/Videos/mokap/\"\n",
    "session_id = os.listdir(video_folder)\n",
    "video_file = []\n",
    "for folder in session_id:\n",
    "    files = os.listdir(os.path.join(video_folder, folder))\n",
    "    for file in files:\n",
    "        video_file.append(os.path.join(video_folder, folder, file))\n",
    "\n",
    "def get_frame(video_path: int, frame_index: int) -> None:\n",
    "    vid = cv2.VideoCapture(video_path)\n",
    "    vid.set(cv2.CAP_PROP_POS_FRAMES, frame_index)\n",
    "    ret, frame = vid.read()\n",
    "    vid.release()\n",
    "    if not ret:\n",
    "        return None\n",
    "    else:\n",
    "        return cv2.cvtColor(frame, cv2.COLOR_BGR2GRAY)\n",
    "    \n",
    "def draw_circle(event,x,y,flags,param):\n",
    "    #Because of the use of global variables, they must be defined before using them, outside of any functions\n",
    "    global radius, text_image, mask  \n",
    "    if flags == cv2.EVENT_FLAG_SHIFTKEY:\n",
    "            cv2.circle(mask,(x,y),radius,(0,0,0),-1)    \n",
    "    if flags == cv2.EVENT_FLAG_LBUTTON:\n",
    "        cv2.circle(mask,(x,y),radius,(255,255,255),-1)      \n",
    "        \n",
    "    text_image = cv2.rectangle(text_image, (0, 70), (35, 40), (255, 255, 255), -1)    \n",
    "    text_image = cv2.putText(text_image, str(radius), (0, 65), cv2.FONT_HERSHEY_SIMPLEX, fontScale=0.8, color=(0, 0, 255), thickness=2)  \n",
    "\n",
    "#Find the moment of the reduced mask\n",
    "def find_centre(contours):\n",
    "    \n",
    "    # Calculate image moments of the detected contour\n",
    "    M = cv2.moments(contours[0])\n",
    "    \n",
    "    # Print center (debugging):\n",
    "    x = round(M['m10'] / M['m00'])\n",
    "    y = round(M['m01'] / M['m00'])\n",
    "    \n",
    "    return x,y\n",
    "        \n",
    "def create_bgs_short(clearest_frame):\n",
    "    back_sub = cv2.createBackgroundSubtractorMOG2(history=100, varThreshold=9, detectShadows=True)\n",
    "    \n",
    "    back_sub.setShadowThreshold(0.49)\n",
    "    \n",
    "    back_sub.apply(clearest_frame, None, 1)\n",
    "  \n",
    "    return back_sub\n",
    "\n",
    "def create_bgs_long(video_path, sample_rate=50):\n",
    "\n",
    "    cap = cv2.VideoCapture(video_path)    \n",
    "    # Read the first frame, but discard as first frame is blank\n",
    "    ret, first_frame = cap.read()\n",
    "    if not ret:\n",
    "        print(\"Failed to read video\")\n",
    "        return\n",
    "    \n",
    "    back_sub = cv2.createBackgroundSubtractorMOG2(history=1000, varThreshold=11, detectShadows=True)\n",
    "    back_sub.setShadowThreshold(0.049)\n",
    "    \n",
    "    fno = 1\n",
    "    while ret:\n",
    "        if fno % sample_rate == 0:\n",
    "            ret, frame = cap.retrieve()\n",
    "            if not ret:\n",
    "                break\n",
    "            # Convert current frame to grayscale\n",
    "            gray = cv2.cvtColor(frame, cv2.COLOR_BGR2GRAY)\n",
    "            back_sub.apply(gray, None, 0.1)\n",
    "            fno += 1\n",
    "        else:\n",
    "            # read next frame\n",
    "            ret = cap.grab()\n",
    "            fno += 1\n",
    "    return back_sub\n",
    "  \n",
    "    \n",
    "\n",
    "\n"
   ],
   "outputs": [],
   "execution_count": 14
  },
  {
   "metadata": {
    "ExecuteTime": {
     "end_time": "2024-10-22T16:26:36.299321Z",
     "start_time": "2024-10-22T16:26:36.293141Z"
    }
   },
   "cell_type": "code",
   "source": [
    "def find_convex_hull(image, mask):\n",
    "    #Attempt to refine the mask\n",
    "    #Create an image where every pixel outside of the mask is set to the mean value of the image outside the mask\n",
    "    thresh = cv2.mean(image, mask=cv2.bitwise_not(mask))[0]\n",
    "    average_bg = cv2.bitwise_and(cv2.bitwise_not(mask), thresh)\n",
    "    masked_seed = cv2.bitwise_and(image, image, mask=mask)\n",
    "    average_image = cv2.bitwise_xor(masked_seed, average_bg)\n",
    "    \n",
    "    #Blur image and apply adaptive thresholding\n",
    "    blur = cv2.GaussianBlur(average_image,(7,7),0)\n",
    "    _, thresh_image = cv2.threshold(blur,0,255,cv2.THRESH_BINARY+cv2.THRESH_OTSU)\n",
    "    \n",
    "    blur_thresh = cv2.blur(thresh_image, (3,3))\n",
    "    contours,_ = cv2.findContours(blur_thresh, cv2.RETR_TREE, cv2.CHAIN_APPROX_SIMPLE)\n",
    "    \n",
    "    #Create an empty array of edges to be filled\n",
    "    edges = np.empty((0,2), dtype=np.uint8)\n",
    "    \n",
    "    #Compile all contours in image but ignore lines that are shorter than the threshold\n",
    "    for i in range(len(contours)):\n",
    "        if len(contours[i]) > 15:\n",
    "            edges = np.concatenate([edges, *contours[i]])\n",
    "    \n",
    "    new_mask  = np.zeros_like(image, dtype=np.uint8)\n",
    "    \n",
    "    try:\n",
    "        convex_hull = cv2.convexHull(edges)\n",
    "    except Exception as e: \n",
    "        print(e)\n",
    "        return None \n",
    "    \n",
    "    cv2.drawContours(new_mask, [convex_hull], -1, (255,255,255), -1)\n",
    "    x,y = find_centre([convex_hull]) #This is called 39 times and I don't know how to stop it\n",
    "    return convex_hull[0], new_mask, x, y\n",
    "\n",
    "\n",
    "def find_bounding_box(contours, image, mask):    \n",
    "    x,y,w,h = cv2.boundingRect(contours)\n",
    "    template = image[y:y+h,x:x+w]\n",
    "    cropped_mask = mask[y:y+h,x:x+w]\n",
    "    return template, cropped_mask\n",
    "\n",
    "def match_template(image, template, mask):\n",
    "    # Apply template Matching\n",
    "    res = cv2.matchTemplate(image,template, cv2.TM_CCORR, mask=mask)\n",
    "    _, max_val, _, max_loc = cv2.minMaxLoc(res)\n",
    "    #top_left = max_loc\n",
    "    x,y = max_loc\n",
    "    return x,y, max_val\n",
    "\n",
    "def transform_mask(mask, old_x, old_y, new_x, new_y):\n",
    "    dx = new_x - old_x\n",
    "    dy = new_y - old_y\n",
    "    T = np.float32([[1,0,dx],[0,1,dy]])\n",
    "    new_mask = cv2.warpAffine(mask,T, (mask.shape[1], mask.shape[0]))\n",
    "    \n",
    "    return new_mask\n",
    "    "
   ],
   "id": "82a0d1387398a879",
   "outputs": [],
   "execution_count": 26
  },
  {
   "metadata": {
    "ExecuteTime": {
     "end_time": "2024-10-22T16:37:13.411585Z",
     "start_time": "2024-10-22T16:37:13.408511Z"
    }
   },
   "cell_type": "code",
   "source": "help(cv2.minMaxLoc)",
   "id": "67abd3bcf92853a0",
   "outputs": [
    {
     "name": "stdout",
     "output_type": "stream",
     "text": [
      "Help on built-in function minMaxLoc:\n",
      "\n",
      "minMaxLoc(...)\n",
      "    minMaxLoc(src[, mask]) -> minVal, maxVal, minLoc, maxLoc\n",
      "    .   @brief Finds the global minimum and maximum in an array.\n",
      "    .   \n",
      "    .   The function cv::minMaxLoc finds the minimum and maximum element values and their positions. The\n",
      "    .   extremums are searched across the whole array or, if mask is not an empty array, in the specified\n",
      "    .   array region.\n",
      "    .   \n",
      "    .   The function do not work with multi-channel arrays. If you need to find minimum or maximum\n",
      "    .   elements across all the channels, use Mat::reshape first to reinterpret the array as\n",
      "    .   single-channel. Or you may extract the particular channel using either extractImageCOI, or\n",
      "    .   mixChannels, or split.\n",
      "    .   @param src input single-channel array.\n",
      "    .   @param minVal pointer to the returned minimum value; NULL is used if not required.\n",
      "    .   @param maxVal pointer to the returned maximum value; NULL is used if not required.\n",
      "    .   @param minLoc pointer to the returned minimum location (in 2D case); NULL is used if not required.\n",
      "    .   @param maxLoc pointer to the returned maximum location (in 2D case); NULL is used if not required.\n",
      "    .   @param mask optional mask used to select a sub-array.\n",
      "    .   @sa max, min, reduceArgMin, reduceArgMax, compare, inRange, extractImageCOI, mixChannels, split, Mat::reshape\n",
      "\n"
     ]
    }
   ],
   "execution_count": 27
  },
  {
   "metadata": {
    "ExecuteTime": {
     "end_time": "2024-10-22T16:21:50.065932Z",
     "start_time": "2024-10-22T16:21:50.062333Z"
    }
   },
   "cell_type": "code",
   "source": [
    "# For video 33 (for example) select a clear frame to use as the background\n",
    "video_id = 68\n",
    "print(video_file[video_id])\n",
    "clear_frame_id = 10\n",
    "object_frame_id = 1507"
   ],
   "id": "a59ca0c2f54f262f",
   "outputs": [
    {
     "name": "stdout",
     "output_type": "stream",
     "text": [
      "/home/persie/Videos/mokap/240809-1240/240809-1240_cam2_banana_session23.mp4\n"
     ]
    }
   ],
   "execution_count": 23
  },
  {
   "metadata": {
    "ExecuteTime": {
     "end_time": "2024-10-22T16:13:04.664835Z",
     "start_time": "2024-10-22T16:13:03.349907Z"
    }
   },
   "cell_type": "code",
   "source": [
    "clear_frame = get_frame(video_file[video_id], clear_frame_id)\n",
    "object_frame = get_frame(video_file[video_id], object_frame_id)"
   ],
   "id": "930b569d33e05906",
   "outputs": [],
   "execution_count": 16
  },
  {
   "metadata": {
    "ExecuteTime": {
     "end_time": "2024-10-22T16:13:13.166558Z",
     "start_time": "2024-10-22T16:13:05.308094Z"
    }
   },
   "cell_type": "code",
   "source": [
    "# Create a mask of the object being tracked, and scan it for good features to track\n",
    "# Run the mask creation code\n",
    "text_image = object_frame.copy()\n",
    "mask = np.zeros_like(object_frame, np.uint8)\n",
    "# Set the initial circle radius\n",
    "radius = 50\n",
    "line_1 = \"Click with the left mouse button to add, double click to remove\"\n",
    "line_2 = \"Up = radius + 5,\"\n",
    "line_3 = \"Down = radius - 5\"\n",
    "text_image = cv2.putText(text_image, line_1, (10, 10), cv2.FONT_HERSHEY_SIMPLEX, fontScale=0.5, color=(0, 255, 0), thickness=2)  \n",
    "text_image = cv2.putText(text_image, line_2, (10, 22), cv2.FONT_HERSHEY_SIMPLEX, fontScale=0.5, color=(0, 255, 0), thickness=2)  \n",
    "text_image = cv2.putText(text_image, line_3, (10, 34), cv2.FONT_HERSHEY_SIMPLEX, fontScale=0.5, color=(0, 255, 0), thickness=2)  \n",
    "combined_image = cv2.bitwise_or(text_image, mask)\n",
    "cv2.namedWindow('Mask On Frame')\n",
    "cv2.imshow('Mask On Frame', combined_image)\n",
    "cv2.setMouseCallback('Mask On Frame',draw_circle)\n",
    "\n",
    "\n",
    "while(1):\n",
    "    combined_image = cv2.bitwise_or(text_image, mask)\n",
    "    cv2.imshow('Mask On Frame',combined_image)\n",
    "    cv2.imshow('Mask',mask)\n",
    "    k = cv2.waitKey(20) & 0xFF\n",
    "    if k == ord(\"q\"):\n",
    "        break\n",
    "    if k == 82:\n",
    "        #upkey\n",
    "        radius = radius + 5\n",
    "    if k == 84:\n",
    "        #downkey\n",
    "        radius = radius - 5\n",
    "\n",
    "cv2.destroyAllWindows()"
   ],
   "id": "fc20b77730b7c22b",
   "outputs": [],
   "execution_count": 17
  },
  {
   "metadata": {
    "ExecuteTime": {
     "end_time": "2024-10-22T16:13:15.565277Z",
     "start_time": "2024-10-22T16:13:15.561672Z"
    }
   },
   "cell_type": "code",
   "source": [
    "#Save the mask if you like it\n",
    "object_mask = mask"
   ],
   "id": "79680f6b53a8cba6",
   "outputs": [],
   "execution_count": 18
  },
  {
   "metadata": {
    "ExecuteTime": {
     "end_time": "2024-10-22T16:13:17.641113Z",
     "start_time": "2024-10-22T16:13:17.622502Z"
    }
   },
   "cell_type": "code",
   "source": [
    "# Create a background subtractor with the clear frame\n",
    "bgs = create_bgs_short(clear_frame)"
   ],
   "id": "94e8156b5e91b799",
   "outputs": [],
   "execution_count": 19
  },
  {
   "metadata": {
    "ExecuteTime": {
     "end_time": "2024-10-22T16:22:18.099044Z",
     "start_time": "2024-10-22T16:22:17.024592Z"
    }
   },
   "cell_type": "code",
   "source": [
    "# Set the initial frame and mask\n",
    "initial_frame = 1\n",
    "\n",
    "convex_hull, convex_mask, x, y = find_convex_hull(object_frame, object_mask)\n",
    "#Crop the mask for the first time\n",
    "template, cropped_mask = find_bounding_box(convex_hull, object_frame, convex_mask)\n",
    "\n",
    "cap = cv2.VideoCapture(video_file[video_id])\n",
    "cap.set(cv2.CAP_PROP_POS_FRAMES, initial_frame)\n",
    "\n",
    "template_match_threshold = 0.8\n",
    "\n",
    "while True:\n",
    "    ret, frame = cap.read()\n",
    "    if not ret:\n",
    "        break\n",
    "\n",
    "    # Convert current frame to grayscale\n",
    "    gray = cv2.cvtColor(frame, cv2.COLOR_BGR2GRAY)\n",
    "\n",
    "    #Find the pixel co-ordinates of the new match\n",
    "    new_x, new_y, max_template_match = match_template(gray, template, cropped_mask)\n",
    "    \n",
    "    if max_template_match > template_match_threshold:    \n",
    "        #Move the mask to the new match\n",
    "        new_mask = transform_mask(mask, x, y, new_x, new_y)\n",
    "    else:\n",
    "        #Leave the template where it is\n",
    "        new_mask = mask\n",
    "    \n",
    "    cv2.imshow('New Mask', new_mask)\n",
    "    #Inflate the mask to allow for movement\n",
    "    new_mask = cv2.dilate(new_mask, None, iterations=2)\n",
    "    cv2.imshow('New Mask (D)', new_mask)\n",
    "    #Find the convex hull\n",
    "    convex_hull, convex_mask, _, _ = find_convex_hull(gray, new_mask)\n",
    "    cv2.imshow('Convex Mask', convex_mask)\n",
    "    #Crop the mask\n",
    "    new_template, cropped_mask = find_bounding_box(convex_hull, gray, convex_mask)\n",
    "\n",
    "    #Plot the convex hull on a temporary image frame\n",
    "    new_f = np.zeros_like(gray, np.uint8)\n",
    "    cv2.drawContours(new_f, [convex_hull], 0, (255, 255, 255), -1)\n",
    "\n",
    "    cv2.imshow('Output', gray)\n",
    "    cv2.imshow('Contour', new_f)\n",
    "\n",
    "    #Reset held values\n",
    "    x = new_x\n",
    "    y = new_y\n",
    "    template = new_template\n",
    "    mask = convex_mask\n",
    "\n",
    "    if cv2.waitKey(30) & 0xFF == ord('q'):\n",
    "        break\n",
    "\n",
    "cap.release()\n",
    "cv2.destroyAllWindows()\n",
    "\n"
   ],
   "id": "dee7075a18dbf503",
   "outputs": [
    {
     "name": "stdout",
     "output_type": "stream",
     "text": [
      "728\n",
      "588\n",
      "426\n",
      "756\n",
      "1064\n",
      "783\n",
      "1064\n",
      "783\n",
      "1064\n",
      "783\n",
      "1064\n",
      "784\n"
     ]
    },
    {
     "ename": "error",
     "evalue": "OpenCV(4.10.0) /home/conda/feedstock_root/build_artifacts/libopencv_1729143277002/work/modules/imgproc/src/convhull.cpp:143: error: (-215:Assertion failed) total >= 0 && (depth == CV_32F || depth == CV_32S) in function 'convexHull'\n",
     "output_type": "error",
     "traceback": [
      "\u001B[0;31m---------------------------------------------------------------------------\u001B[0m",
      "\u001B[0;31merror\u001B[0m                                     Traceback (most recent call last)",
      "Cell \u001B[0;32mIn[24], line 29\u001B[0m\n\u001B[1;32m     27\u001B[0m cv2\u001B[38;5;241m.\u001B[39mimshow(\u001B[38;5;124m'\u001B[39m\u001B[38;5;124mNew Mask (D)\u001B[39m\u001B[38;5;124m'\u001B[39m, new_mask)\n\u001B[1;32m     28\u001B[0m \u001B[38;5;66;03m#Find the convex hull\u001B[39;00m\n\u001B[0;32m---> 29\u001B[0m convex_hull, convex_mask, _, _ \u001B[38;5;241m=\u001B[39m \u001B[43mfind_convex_hull\u001B[49m\u001B[43m(\u001B[49m\u001B[43mgray\u001B[49m\u001B[43m,\u001B[49m\u001B[43m \u001B[49m\u001B[43mnew_mask\u001B[49m\u001B[43m)\u001B[49m\n\u001B[1;32m     30\u001B[0m cv2\u001B[38;5;241m.\u001B[39mimshow(\u001B[38;5;124m'\u001B[39m\u001B[38;5;124mConvex Mask\u001B[39m\u001B[38;5;124m'\u001B[39m, convex_mask)\n\u001B[1;32m     31\u001B[0m \u001B[38;5;66;03m#Crop the mask\u001B[39;00m\n",
      "Cell \u001B[0;32mIn[21], line 24\u001B[0m, in \u001B[0;36mfind_convex_hull\u001B[0;34m(image, mask)\u001B[0m\n\u001B[1;32m     21\u001B[0m     \u001B[38;5;28;01mif\u001B[39;00m \u001B[38;5;28mlen\u001B[39m(contours[i]) \u001B[38;5;241m>\u001B[39m \u001B[38;5;241m15\u001B[39m:\n\u001B[1;32m     22\u001B[0m         edges \u001B[38;5;241m=\u001B[39m np\u001B[38;5;241m.\u001B[39mconcatenate([edges, \u001B[38;5;241m*\u001B[39mcontours[i]])\n\u001B[0;32m---> 24\u001B[0m convex_hull \u001B[38;5;241m=\u001B[39m \u001B[43mcv2\u001B[49m\u001B[38;5;241;43m.\u001B[39;49m\u001B[43mconvexHull\u001B[49m\u001B[43m(\u001B[49m\u001B[43medges\u001B[49m\u001B[43m)\u001B[49m\n\u001B[1;32m     25\u001B[0m new_mask  \u001B[38;5;241m=\u001B[39m np\u001B[38;5;241m.\u001B[39mzeros_like(image, dtype\u001B[38;5;241m=\u001B[39mnp\u001B[38;5;241m.\u001B[39muint8)\n\u001B[1;32m     26\u001B[0m cv2\u001B[38;5;241m.\u001B[39mdrawContours(new_mask, [convex_hull], \u001B[38;5;241m-\u001B[39m\u001B[38;5;241m1\u001B[39m, (\u001B[38;5;241m255\u001B[39m,\u001B[38;5;241m255\u001B[39m,\u001B[38;5;241m255\u001B[39m), \u001B[38;5;241m-\u001B[39m\u001B[38;5;241m1\u001B[39m)\n",
      "\u001B[0;31merror\u001B[0m: OpenCV(4.10.0) /home/conda/feedstock_root/build_artifacts/libopencv_1729143277002/work/modules/imgproc/src/convhull.cpp:143: error: (-215:Assertion failed) total >= 0 && (depth == CV_32F || depth == CV_32S) in function 'convexHull'\n"
     ]
    }
   ],
   "execution_count": 24
  },
  {
   "metadata": {},
   "cell_type": "code",
   "outputs": [],
   "execution_count": null,
   "source": [
    "#Find initial moment\n",
    "contours, hierarchy = cv2.findContours(object_mask, cv2.RETR_EXTERNAL, cv2.CHAIN_APPROX_NONE)\n",
    "cnt = contours[0]\n",
    "x, y, w, h = cv2.boundingRect(cnt)\n",
    "\n",
    "#Attempt to refine the mask\n",
    "thresh = cv2.mean(object_frame, mask=cv2.bitwise_not(object_mask))[0]\n",
    "average_bg = cv2.bitwise_and(cv2.bitwise_not(object_mask), thresh)\n",
    "masked_seed = cv2.bitwise_and(object_frame, object_frame, mask=object_mask)\n",
    "thresh_bg = np.ones_like(object_frame) * np.ceil(thresh).astype(np.uint8)\n",
    "average_image = cv2.bitwise_xor(masked_seed, average_bg)\n",
    "\n",
    "# Otsu's thresholding after Gaussian filtering\n",
    "blur = cv2.GaussianBlur(average_image, (7, 7), 0)\n",
    "ret3, th3 = cv2.threshold(blur, 0, 255, cv2.THRESH_BINARY + cv2.THRESH_OTSU)\n",
    "cv2.imshow(\"blended\", average_image)\n",
    "cv2.imshow(\"th3\", th3)\n",
    "\n",
    "src = th3.copy()\n",
    "\n",
    "# Create Window\n",
    "source_window = 'Source'\n",
    "cv2.namedWindow(source_window, cv2.WINDOW_NORMAL)\n",
    "\n",
    "cv2.imshow('Source', src)\n",
    "color = []\n",
    "for n in range(0, 20):\n",
    "    color.append((rng.randint(0, 256), rng.randint(0, 256), rng.randint(0, 256)))\n",
    "\n",
    "    blur_fg = cv2.blur(src, (3, 3))\n",
    "    # Find contours\n",
    "    contours, _ = cv2.findContours(blur_fg, cv2.RETR_TREE, cv2.CHAIN_APPROX_SIMPLE)\n",
    "\n",
    "    edges = np.empty((0, 2), dtype=np.uint8)\n",
    "\n",
    "    #Find the overall contour\n",
    "    for i in range(len(contours)):\n",
    "        if len(contours[i]) > 15:\n",
    "            edges = np.concatenate([edges, *contours[i]])\n",
    "\n",
    "    convex_hull = cv2.convexHull(edges)\n",
    "    drawing = np.zeros_like(src, dtype=np.uint8)\n",
    "    new_mask = np.zeros_like(src, dtype=np.uint8)\n",
    "    new_edge = object_frame.copy()\n",
    "    cv2.drawContours(drawing, [convex_hull], -1, color[0], 3)\n",
    "    cv2.drawContours(new_edge, [convex_hull], -1, color[0], 3)\n",
    "    cv2.drawContours(new_mask, [convex_hull], -1, (255, 255, 255), -1)\n",
    "\n",
    "    x, y = find_centre([convex_hull])  #This is called 39 times and I don't know how to stop it\n",
    "    cv2.circle(new_mask, (x, y), 5, (0, 255, 0), -1)\n",
    "\n",
    "while True:\n",
    "    # Show in a window\n",
    "    cv2.imshow('Contours', drawing)\n",
    "    cv2.imshow('New', new_edge)\n",
    "    cv2.imshow('New Mask', new_mask)\n",
    "\n",
    "    if cv2.waitKey(30) & 0xFF == ord('q'):\n",
    "        break\n",
    "\n",
    "cap.release()\n",
    "cv2.destroyAllWindows()\n",
    "\n",
    "#Apply an affine warp to the mask\n",
    "affine = cv2.getAffineTransform([cv2.KeyPoint[0, 0], [0, 5], [5, 0]], [[45, 45], [45, 50], [50, 45]])\n",
    "\n",
    "out = cv2.warpAffine(new_edge, affine, (new_mask.shape[1], new_mask.shape[0]))\n",
    "\n",
    "while True:\n",
    "    cv2.imshow('New Mask', new_mask)\n",
    "    cv2.imshow('Transformed Mask', out)\n",
    "\n",
    "    if cv2.waitKey(30) & 0xFF == ord('q'):\n",
    "        break\n",
    "\n",
    "cap.release()\n",
    "cv2.destroyAllWindows()\n",
    "\n"
   ],
   "id": "ebce77fee79ae813"
  },
  {
   "metadata": {
    "ExecuteTime": {
     "end_time": "2024-10-22T16:23:40.399567Z",
     "start_time": "2024-10-22T16:23:40.381756Z"
    }
   },
   "cell_type": "code",
   "source": [
    "cap.release()\n",
    "cv2.destroyAllWindows()"
   ],
   "id": "f172c528d8d9dde0",
   "outputs": [],
   "execution_count": 25
  }
 ],
 "metadata": {
  "kernelspec": {
   "display_name": "Python 3",
   "language": "python",
   "name": "python3"
  },
  "language_info": {
   "codemirror_mode": {
    "name": "ipython",
    "version": 2
   },
   "file_extension": ".py",
   "mimetype": "text/x-python",
   "name": "python",
   "nbconvert_exporter": "python",
   "pygments_lexer": "ipython2",
   "version": "2.7.6"
  }
 },
 "nbformat": 4,
 "nbformat_minor": 5
}
