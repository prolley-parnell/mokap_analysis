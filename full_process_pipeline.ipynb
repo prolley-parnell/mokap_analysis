{
 "cells": [
  {
   "cell_type": "code",
   "id": "initial_id",
   "metadata": {
    "collapsed": true,
    "ExecuteTime": {
     "end_time": "2024-09-25T20:47:42.711157Z",
     "start_time": "2024-09-25T20:47:42.699475Z"
    }
   },
   "source": [
    "import cv2\n",
    "import numpy as np\n",
    "import os\n",
    "\n",
    "# Open all the video folders to find the paths\n",
    "video_folder = \"/home/persie/Videos/mokap/\"\n",
    "session_id = os.listdir(video_folder)\n",
    "video_file = []\n",
    "for folder in session_id:\n",
    "    files = os.listdir(os.path.join(video_folder, folder))\n",
    "    for file in files:\n",
    "        video_file.append(os.path.join(video_folder, folder, file))\n",
    "\n",
    "def get_frame(video_path: int, frame_index: int) -> None:\n",
    "    vid = cv2.VideoCapture(video_path)\n",
    "    vid.set(cv2.CAP_PROP_POS_FRAMES, frame_index)\n",
    "    ret, frame = vid.read()\n",
    "    vid.release()\n",
    "    if not ret:\n",
    "        return None\n",
    "    else:\n",
    "        return cv2.cvtColor(frame, cv2.COLOR_BGR2GRAY)\n",
    "    \n",
    "def draw_circle(event, x, y, flags, param):\n",
    "    #Because of the use of global variables, they must be defined before using them, outside of any functions\n",
    "    global radius, text_image, mask\n",
    "    if flags == cv2.EVENT_FLAG_SHIFTKEY:\n",
    "        cv2.circle(mask, (x, y), radius, (0, 0, 0), -1)\n",
    "    if flags == cv2.EVENT_FLAG_LBUTTON:\n",
    "        cv2.circle(mask, (x, y), radius, (255, 255, 255), -1)\n",
    "\n",
    "    text_image = cv2.rectangle(text_image, (0, 70), (35, 40), (255, 255, 255), -1)\n",
    "    text_image = cv2.putText(text_image, str(radius), (0, 65), cv2.FONT_HERSHEY_SIMPLEX, fontScale=0.8,\n",
    "                             color=(0, 0, 255), thickness=2)\n",
    "\n",
    "def create_bgs(video_path, clearest_frame):\n",
    "\n",
    "    cap = cv2.VideoCapture(video_path)    \n",
    "    # Read the first frame, but discard as first frame is blank\n",
    "    ret, first_frame = cap.read()\n",
    "    if not ret:\n",
    "        print(\"Failed to read video\")\n",
    "        return\n",
    "    \n",
    "    back_sub = cv2.createBackgroundSubtractorMOG2(history=100, varThreshold=30, detectShadows=True)\n",
    "    \n",
    "    back_sub.apply(clearest_frame, None, 1)\n",
    "  \n",
    "    return back_sub\n",
    "\n",
    "\n",
    "    \n",
    "\n",
    "\n"
   ],
   "outputs": [],
   "execution_count": 25
  },
  {
   "metadata": {
    "ExecuteTime": {
     "end_time": "2024-09-25T20:42:41.504091Z",
     "start_time": "2024-09-25T20:42:41.501254Z"
    }
   },
   "cell_type": "code",
   "source": [
    "# For video 33 (for example) select a clear frame to use as the background\n",
    "video_id = 33\n",
    "clear_frame_id = 134\n",
    "object_frame_id = 1507"
   ],
   "id": "a59ca0c2f54f262f",
   "outputs": [],
   "execution_count": 17
  },
  {
   "metadata": {
    "ExecuteTime": {
     "end_time": "2024-09-25T20:42:45.050213Z",
     "start_time": "2024-09-25T20:42:43.514362Z"
    }
   },
   "cell_type": "code",
   "source": [
    "clear_frame = get_frame(video_file[video_id], clear_frame_id)\n",
    "object_frame = get_frame(video_file[video_id], object_frame_id)"
   ],
   "id": "930b569d33e05906",
   "outputs": [],
   "execution_count": 18
  },
  {
   "metadata": {
    "ExecuteTime": {
     "end_time": "2024-09-25T20:44:18.184847Z",
     "start_time": "2024-09-25T20:43:59.293026Z"
    }
   },
   "cell_type": "code",
   "source": [
    "# Create a mask of the object being tracked, and scan it for good features to track\n",
    "text_image = object_frame\n",
    "mask = np.zeros_like(text_image, np.uint8)\n",
    "# Set the initial circle radius\n",
    "radius = 50\n",
    "line_1 = \"Click with the left mouse button to add, hold SHIFT to remove\"\n",
    "line_2 = \"Up = radius + 5,\"\n",
    "line_3 = \"Down = radius - 5\"\n",
    "text_image = cv2.putText(text_image, line_1, (10, 10), cv2.FONT_HERSHEY_SIMPLEX, fontScale=0.5, color=(0, 255, 0),\n",
    "                         thickness=2)\n",
    "text_image = cv2.putText(text_image, line_2, (10, 22), cv2.FONT_HERSHEY_SIMPLEX, fontScale=0.5, color=(0, 255, 0),\n",
    "                         thickness=2)\n",
    "text_image = cv2.putText(text_image, line_3, (10, 34), cv2.FONT_HERSHEY_SIMPLEX, fontScale=0.5, color=(0, 255, 0),\n",
    "                         thickness=2)\n",
    "combined_image = cv2.bitwise_or(text_image, mask)\n",
    "cv2.namedWindow('Mask On Frame')\n",
    "cv2.imshow('Mask On Frame', combined_image)\n",
    "cv2.setMouseCallback('Mask On Frame', draw_circle)\n",
    "\n",
    "while (1):\n",
    "    combined_image = cv2.bitwise_or(text_image, mask)\n",
    "    cv2.imshow('Mask On Frame', combined_image)\n",
    "    cv2.imshow('Mask', mask)\n",
    "    k = cv2.waitKey(20) & 0xFF\n",
    "    if k == ord(\"q\"):\n",
    "        break\n",
    "    if k == 82:\n",
    "        #upkey\n",
    "        radius = radius + 5\n",
    "    if k == 84:\n",
    "        #downkey\n",
    "        radius = radius - 5\n",
    "\n",
    "cv2.destroyAllWindows()\n",
    "    "
   ],
   "id": "fc20b77730b7c22b",
   "outputs": [],
   "execution_count": 23
  },
  {
   "metadata": {
    "ExecuteTime": {
     "end_time": "2024-09-25T20:44:41.754736Z",
     "start_time": "2024-09-25T20:44:41.748701Z"
    }
   },
   "cell_type": "code",
   "source": [
    "#Save the mask if you like it\n",
    "object_mask = mask"
   ],
   "id": "79680f6b53a8cba6",
   "outputs": [],
   "execution_count": 24
  },
  {
   "metadata": {},
   "cell_type": "code",
   "outputs": [],
   "execution_count": null,
   "source": "#Find the useful features in the masked image",
   "id": "4f840793891df448"
  },
  {
   "metadata": {
    "ExecuteTime": {
     "end_time": "2024-09-25T20:48:21.650732Z",
     "start_time": "2024-09-25T20:48:21.590235Z"
    }
   },
   "cell_type": "code",
   "source": [
    "# Create a background subtractor with the clear frame\n",
    "bgs = create_bgs(video_file[video_id], clear_frame)"
   ],
   "id": "94e8156b5e91b799",
   "outputs": [],
   "execution_count": 26
  },
  {
   "metadata": {
    "ExecuteTime": {
     "end_time": "2024-09-25T20:37:01.743255Z",
     "start_time": "2024-09-25T20:37:01.734263Z"
    }
   },
   "cell_type": "code",
   "source": [
    "\n",
    "    \n",
    "    \n",
    "    #Search the foreground for the features\n",
    "    \n",
    "    #Use these matched features as markers for the edge detection method"
   ],
   "id": "65a4a60c0f472fb8",
   "outputs": [],
   "execution_count": 15
  },
  {
   "metadata": {},
   "cell_type": "code",
   "outputs": [],
   "execution_count": null,
   "source": [
    "#Background Update\n",
    "def segment_seeds(video_path, bgs):\n",
    "\n",
    "    cap = cv2.VideoCapture(video_path)\n",
    "    # Read the first frame\n",
    "    ret, first_frame = cap.read()\n",
    "    if not ret:\n",
    "        print(\"Failed to read video\")\n",
    "        return\n",
    "    kernel = np.ones((3,3),np.uint8)\n",
    "    \n",
    "    \n",
    "    while True:\n",
    "        #For each frame in the video\n",
    "        ret, frame = cap.read()\n",
    "        if not ret:\n",
    "            break\n",
    "\n",
    "        # Convert current frame to grayscale\n",
    "        gray = cv2.cvtColor(frame, cv2.COLOR_BGR2GRAY)\n",
    "        #Use the background subtractor to estimate what is in the foreground\n",
    "        fg_mask = bgs.apply(gray, None, 0.0)\n",
    "        # noise removal\n",
    "        # This is the sure fg as it is 0 where the scene is the background\n",
    "        sure_fg = cv2.threshold(fg_mask, 0, 255, cv2.THRESH_BINARY)[1]\n",
    "        sure_fg = cv2.erode(sure_fg, kernel, iterations=1)\n",
    "        sure_fg = cv2.dilate(sure_fg, kernel, iterations=1)\n",
    "        \n",
    "        #Extract the pixels that are covered by the sure foreground mask\n",
    "        \n",
    "        #Search the masked image for features\n",
    "        \n",
    "        #Show the matched features\n",
    "\n",
    "\n",
    "\n",
    "        if cv2.waitKey(30) & 0xFF == ord('q'):\n",
    "            break\n",
    "\n",
    "    cap.release()\n",
    "    cv2.destroyAllWindows()\n"
   ],
   "id": "dee7075a18dbf503"
  }
 ],
 "metadata": {
  "kernelspec": {
   "display_name": "Python 3",
   "language": "python",
   "name": "python3"
  },
  "language_info": {
   "codemirror_mode": {
    "name": "ipython",
    "version": 2
   },
   "file_extension": ".py",
   "mimetype": "text/x-python",
   "name": "python",
   "nbconvert_exporter": "python",
   "pygments_lexer": "ipython2",
   "version": "2.7.6"
  }
 },
 "nbformat": 4,
 "nbformat_minor": 5
}
